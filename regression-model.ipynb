{
 "cells": [
  {
   "cell_type": "code",
   "execution_count": 1,
   "id": "e65f1c7a",
   "metadata": {
    "_cell_guid": "b1076dfc-b9ad-4769-8c92-a6c4dae69d19",
    "_uuid": "8f2839f25d086af736a60e9eeb907d3b93b6e0e5",
    "execution": {
     "iopub.execute_input": "2022-07-24T18:42:57.193035Z",
     "iopub.status.busy": "2022-07-24T18:42:57.192259Z",
     "iopub.status.idle": "2022-07-24T18:42:57.201185Z",
     "shell.execute_reply": "2022-07-24T18:42:57.200519Z",
     "shell.execute_reply.started": "2022-07-24T18:40:17.086378Z"
    },
    "papermill": {
     "duration": 0.039274,
     "end_time": "2022-07-24T18:42:57.201410",
     "exception": false,
     "start_time": "2022-07-24T18:42:57.162136",
     "status": "completed"
    },
    "tags": []
   },
   "outputs": [
    {
     "name": "stdout",
     "output_type": "stream",
     "text": [
      "/kaggle/input/crowdflower-search-relevance/train.csv.zip\n",
      "/kaggle/input/crowdflower-search-relevance/sampleSubmission.csv.zip\n",
      "/kaggle/input/crowdflower-search-relevance/test.csv.zip\n"
     ]
    }
   ],
   "source": [
    "# This Python 3 environment comes with many helpful analytics libraries installed\n",
    "# It is defined by the kaggle/python Docker image: https://github.com/kaggle/docker-python\n",
    "# For example, here's several helpful packages to load\n",
    "\n",
    "import numpy as np # linear algebra\n",
    "import pandas as pd # data processing, CSV file I/O (e.g. pd.read_csv)\n",
    "\n",
    "# Input data files are available in the read-only \"../input/\" directory\n",
    "# For example, running this (by clicking run or pressing Shift+Enter) will list all files under the input directory\n",
    "\n",
    "import os\n",
    "for dirname, _, filenames in os.walk('/kaggle/input'):\n",
    "    for filename in filenames:\n",
    "        print(os.path.join(dirname, filename))\n",
    "\n",
    "# You can write up to 20GB to the current directory (/kaggle/working/) that gets preserved as output when you create a version using \"Save & Run All\" \n",
    "# You can also write temporary files to /kaggle/temp/, but they won't be saved outside of the current session"
   ]
  },
  {
   "cell_type": "code",
   "execution_count": 2,
   "id": "89ddc03d",
   "metadata": {
    "execution": {
     "iopub.execute_input": "2022-07-24T18:42:57.239675Z",
     "iopub.status.busy": "2022-07-24T18:42:57.238800Z",
     "iopub.status.idle": "2022-07-24T18:42:57.940445Z",
     "shell.execute_reply": "2022-07-24T18:42:57.939774Z",
     "shell.execute_reply.started": "2022-07-24T18:40:17.124745Z"
    },
    "papermill": {
     "duration": 0.722764,
     "end_time": "2022-07-24T18:42:57.940615",
     "exception": false,
     "start_time": "2022-07-24T18:42:57.217851",
     "status": "completed"
    },
    "tags": []
   },
   "outputs": [
    {
     "data": {
      "text/html": [
       "<div>\n",
       "<style scoped>\n",
       "    .dataframe tbody tr th:only-of-type {\n",
       "        vertical-align: middle;\n",
       "    }\n",
       "\n",
       "    .dataframe tbody tr th {\n",
       "        vertical-align: top;\n",
       "    }\n",
       "\n",
       "    .dataframe thead th {\n",
       "        text-align: right;\n",
       "    }\n",
       "</style>\n",
       "<table border=\"1\" class=\"dataframe\">\n",
       "  <thead>\n",
       "    <tr style=\"text-align: right;\">\n",
       "      <th></th>\n",
       "      <th>id</th>\n",
       "      <th>query</th>\n",
       "      <th>product_title</th>\n",
       "      <th>product_description</th>\n",
       "      <th>median_relevance</th>\n",
       "      <th>relevance_variance</th>\n",
       "    </tr>\n",
       "  </thead>\n",
       "  <tbody>\n",
       "    <tr>\n",
       "      <th>0</th>\n",
       "      <td>1</td>\n",
       "      <td>bridal shower decorations</td>\n",
       "      <td>Accent Pillow with Heart Design - Red/Black</td>\n",
       "      <td>Red satin accent pillow embroidered with a hea...</td>\n",
       "      <td>1</td>\n",
       "      <td>0.000</td>\n",
       "    </tr>\n",
       "    <tr>\n",
       "      <th>1</th>\n",
       "      <td>2</td>\n",
       "      <td>led christmas lights</td>\n",
       "      <td>Set of 10 Battery Operated Multi LED Train Chr...</td>\n",
       "      <td>Set of 10 Battery Operated Train Christmas Lig...</td>\n",
       "      <td>4</td>\n",
       "      <td>0.000</td>\n",
       "    </tr>\n",
       "    <tr>\n",
       "      <th>2</th>\n",
       "      <td>4</td>\n",
       "      <td>projector</td>\n",
       "      <td>ViewSonic Pro8200 DLP Multimedia Projector</td>\n",
       "      <td>NaN</td>\n",
       "      <td>4</td>\n",
       "      <td>0.471</td>\n",
       "    </tr>\n",
       "    <tr>\n",
       "      <th>3</th>\n",
       "      <td>5</td>\n",
       "      <td>wine rack</td>\n",
       "      <td>Concept Housewares WR-44526 Solid-Wood Ceiling...</td>\n",
       "      <td>Like a silent and sturdy tree, the Southern En...</td>\n",
       "      <td>4</td>\n",
       "      <td>0.000</td>\n",
       "    </tr>\n",
       "    <tr>\n",
       "      <th>4</th>\n",
       "      <td>7</td>\n",
       "      <td>light bulb</td>\n",
       "      <td>Wintergreen Lighting Christmas LED Light Bulb ...</td>\n",
       "      <td>WTGR1011\\nFeatures\\nNickel base, 60,000 averag...</td>\n",
       "      <td>2</td>\n",
       "      <td>0.471</td>\n",
       "    </tr>\n",
       "  </tbody>\n",
       "</table>\n",
       "</div>"
      ],
      "text/plain": [
       "   id                      query  \\\n",
       "0   1  bridal shower decorations   \n",
       "1   2       led christmas lights   \n",
       "2   4                  projector   \n",
       "3   5                  wine rack   \n",
       "4   7                 light bulb   \n",
       "\n",
       "                                       product_title  \\\n",
       "0        Accent Pillow with Heart Design - Red/Black   \n",
       "1  Set of 10 Battery Operated Multi LED Train Chr...   \n",
       "2         ViewSonic Pro8200 DLP Multimedia Projector   \n",
       "3  Concept Housewares WR-44526 Solid-Wood Ceiling...   \n",
       "4  Wintergreen Lighting Christmas LED Light Bulb ...   \n",
       "\n",
       "                                 product_description  median_relevance  \\\n",
       "0  Red satin accent pillow embroidered with a hea...                 1   \n",
       "1  Set of 10 Battery Operated Train Christmas Lig...                 4   \n",
       "2                                                NaN                 4   \n",
       "3  Like a silent and sturdy tree, the Southern En...                 4   \n",
       "4  WTGR1011\\nFeatures\\nNickel base, 60,000 averag...                 2   \n",
       "\n",
       "   relevance_variance  \n",
       "0               0.000  \n",
       "1               0.000  \n",
       "2               0.471  \n",
       "3               0.000  \n",
       "4               0.471  "
      ]
     },
     "execution_count": 2,
     "metadata": {},
     "output_type": "execute_result"
    }
   ],
   "source": [
    "train = pd.read_csv('/kaggle/input/crowdflower-search-relevance/train.csv.zip')\n",
    "test = pd.read_csv('/kaggle/input/crowdflower-search-relevance/test.csv.zip')\n",
    "train.head()"
   ]
  },
  {
   "cell_type": "code",
   "execution_count": 3,
   "id": "d9685822",
   "metadata": {
    "execution": {
     "iopub.execute_input": "2022-07-24T18:42:57.984763Z",
     "iopub.status.busy": "2022-07-24T18:42:57.984014Z",
     "iopub.status.idle": "2022-07-24T18:42:58.003175Z",
     "shell.execute_reply": "2022-07-24T18:42:58.002583Z",
     "shell.execute_reply.started": "2022-07-24T18:40:17.802990Z"
    },
    "papermill": {
     "duration": 0.046342,
     "end_time": "2022-07-24T18:42:58.003343",
     "exception": false,
     "start_time": "2022-07-24T18:42:57.957001",
     "status": "completed"
    },
    "tags": []
   },
   "outputs": [
    {
     "name": "stdout",
     "output_type": "stream",
     "text": [
      "<class 'pandas.core.frame.DataFrame'>\n",
      "RangeIndex: 10158 entries, 0 to 10157\n",
      "Data columns (total 6 columns):\n",
      " #   Column               Non-Null Count  Dtype  \n",
      "---  ------               --------------  -----  \n",
      " 0   id                   10158 non-null  int64  \n",
      " 1   query                10158 non-null  object \n",
      " 2   product_title        10158 non-null  object \n",
      " 3   product_description  7714 non-null   object \n",
      " 4   median_relevance     10158 non-null  int64  \n",
      " 5   relevance_variance   10158 non-null  float64\n",
      "dtypes: float64(1), int64(2), object(3)\n",
      "memory usage: 476.3+ KB\n"
     ]
    }
   ],
   "source": [
    "train.info()"
   ]
  },
  {
   "cell_type": "code",
   "execution_count": 4,
   "id": "1fc4abd3",
   "metadata": {
    "execution": {
     "iopub.execute_input": "2022-07-24T18:42:58.039875Z",
     "iopub.status.busy": "2022-07-24T18:42:58.039172Z",
     "iopub.status.idle": "2022-07-24T18:42:58.055737Z",
     "shell.execute_reply": "2022-07-24T18:42:58.056515Z",
     "shell.execute_reply.started": "2022-07-24T18:40:17.837793Z"
    },
    "papermill": {
     "duration": 0.036919,
     "end_time": "2022-07-24T18:42:58.056771",
     "exception": false,
     "start_time": "2022-07-24T18:42:58.019852",
     "status": "completed"
    },
    "tags": []
   },
   "outputs": [
    {
     "name": "stdout",
     "output_type": "stream",
     "text": [
      "<class 'pandas.core.frame.DataFrame'>\n",
      "RangeIndex: 22513 entries, 0 to 22512\n",
      "Data columns (total 4 columns):\n",
      " #   Column               Non-Null Count  Dtype \n",
      "---  ------               --------------  ----- \n",
      " 0   id                   22513 non-null  int64 \n",
      " 1   query                22513 non-null  object\n",
      " 2   product_title        22513 non-null  object\n",
      " 3   product_description  17086 non-null  object\n",
      "dtypes: int64(1), object(3)\n",
      "memory usage: 703.7+ KB\n"
     ]
    }
   ],
   "source": [
    "test.info()"
   ]
  },
  {
   "cell_type": "code",
   "execution_count": 5,
   "id": "dd7c4513",
   "metadata": {
    "execution": {
     "iopub.execute_input": "2022-07-24T18:42:58.105656Z",
     "iopub.status.busy": "2022-07-24T18:42:58.104301Z",
     "iopub.status.idle": "2022-07-24T18:42:58.125583Z",
     "shell.execute_reply": "2022-07-24T18:42:58.124878Z",
     "shell.execute_reply.started": "2022-07-24T18:40:17.858867Z"
    },
    "papermill": {
     "duration": 0.046755,
     "end_time": "2022-07-24T18:42:58.125749",
     "exception": false,
     "start_time": "2022-07-24T18:42:58.078994",
     "status": "completed"
    },
    "tags": []
   },
   "outputs": [
    {
     "data": {
      "text/html": [
       "<div>\n",
       "<style scoped>\n",
       "    .dataframe tbody tr th:only-of-type {\n",
       "        vertical-align: middle;\n",
       "    }\n",
       "\n",
       "    .dataframe tbody tr th {\n",
       "        vertical-align: top;\n",
       "    }\n",
       "\n",
       "    .dataframe thead th {\n",
       "        text-align: right;\n",
       "    }\n",
       "</style>\n",
       "<table border=\"1\" class=\"dataframe\">\n",
       "  <thead>\n",
       "    <tr style=\"text-align: right;\">\n",
       "      <th></th>\n",
       "      <th>id</th>\n",
       "      <th>median_relevance</th>\n",
       "      <th>relevance_variance</th>\n",
       "    </tr>\n",
       "  </thead>\n",
       "  <tbody>\n",
       "    <tr>\n",
       "      <th>count</th>\n",
       "      <td>10158.000000</td>\n",
       "      <td>10158.000000</td>\n",
       "      <td>10158.000000</td>\n",
       "    </tr>\n",
       "    <tr>\n",
       "      <th>mean</th>\n",
       "      <td>16353.103071</td>\n",
       "      <td>3.309805</td>\n",
       "      <td>0.377863</td>\n",
       "    </tr>\n",
       "    <tr>\n",
       "      <th>std</th>\n",
       "      <td>9447.106683</td>\n",
       "      <td>0.980666</td>\n",
       "      <td>0.389707</td>\n",
       "    </tr>\n",
       "    <tr>\n",
       "      <th>min</th>\n",
       "      <td>1.000000</td>\n",
       "      <td>1.000000</td>\n",
       "      <td>0.000000</td>\n",
       "    </tr>\n",
       "    <tr>\n",
       "      <th>25%</th>\n",
       "      <td>8078.750000</td>\n",
       "      <td>3.000000</td>\n",
       "      <td>0.000000</td>\n",
       "    </tr>\n",
       "    <tr>\n",
       "      <th>50%</th>\n",
       "      <td>16349.500000</td>\n",
       "      <td>4.000000</td>\n",
       "      <td>0.471000</td>\n",
       "    </tr>\n",
       "    <tr>\n",
       "      <th>75%</th>\n",
       "      <td>24570.750000</td>\n",
       "      <td>4.000000</td>\n",
       "      <td>0.471000</td>\n",
       "    </tr>\n",
       "    <tr>\n",
       "      <th>max</th>\n",
       "      <td>32668.000000</td>\n",
       "      <td>4.000000</td>\n",
       "      <td>1.470000</td>\n",
       "    </tr>\n",
       "  </tbody>\n",
       "</table>\n",
       "</div>"
      ],
      "text/plain": [
       "                 id  median_relevance  relevance_variance\n",
       "count  10158.000000      10158.000000        10158.000000\n",
       "mean   16353.103071          3.309805            0.377863\n",
       "std     9447.106683          0.980666            0.389707\n",
       "min        1.000000          1.000000            0.000000\n",
       "25%     8078.750000          3.000000            0.000000\n",
       "50%    16349.500000          4.000000            0.471000\n",
       "75%    24570.750000          4.000000            0.471000\n",
       "max    32668.000000          4.000000            1.470000"
      ]
     },
     "execution_count": 5,
     "metadata": {},
     "output_type": "execute_result"
    }
   ],
   "source": [
    "train.describe()"
   ]
  },
  {
   "cell_type": "code",
   "execution_count": 6,
   "id": "7a1bf449",
   "metadata": {
    "execution": {
     "iopub.execute_input": "2022-07-24T18:42:58.175080Z",
     "iopub.status.busy": "2022-07-24T18:42:58.174242Z",
     "iopub.status.idle": "2022-07-24T18:42:58.176976Z",
     "shell.execute_reply": "2022-07-24T18:42:58.177512Z",
     "shell.execute_reply.started": "2022-07-24T18:40:17.885834Z"
    },
    "papermill": {
     "duration": 0.034644,
     "end_time": "2022-07-24T18:42:58.177698",
     "exception": false,
     "start_time": "2022-07-24T18:42:58.143054",
     "status": "completed"
    },
    "tags": []
   },
   "outputs": [
    {
     "data": {
      "text/plain": [
       "2    5379\n",
       "3    2819\n",
       "4     925\n",
       "1     885\n",
       "6      81\n",
       "5      69\n",
       "Name: query, dtype: int64"
      ]
     },
     "execution_count": 6,
     "metadata": {},
     "output_type": "execute_result"
    }
   ],
   "source": [
    "train['query'].map(lambda x:len(x.split())).value_counts()"
   ]
  },
  {
   "cell_type": "code",
   "execution_count": 7,
   "id": "478badfa",
   "metadata": {
    "execution": {
     "iopub.execute_input": "2022-07-24T18:42:58.215706Z",
     "iopub.status.busy": "2022-07-24T18:42:58.215034Z",
     "iopub.status.idle": "2022-07-24T18:42:58.232213Z",
     "shell.execute_reply": "2022-07-24T18:42:58.232840Z",
     "shell.execute_reply.started": "2022-07-24T18:40:17.904185Z"
    },
    "papermill": {
     "duration": 0.037883,
     "end_time": "2022-07-24T18:42:58.233053",
     "exception": false,
     "start_time": "2022-07-24T18:42:58.195170",
     "status": "completed"
    },
    "tags": []
   },
   "outputs": [
    {
     "data": {
      "text/plain": [
       "7     1288\n",
       "6     1284\n",
       "8     1183\n",
       "9     1122\n",
       "5     1002\n",
       "10     880\n",
       "11     744\n",
       "12     678\n",
       "4      550\n",
       "13     453\n",
       "14     289\n",
       "15     181\n",
       "3      174\n",
       "17      78\n",
       "16      66\n",
       "2       51\n",
       "18      25\n",
       "19      24\n",
       "20      15\n",
       "24      11\n",
       "21       7\n",
       "25       7\n",
       "27       6\n",
       "26       6\n",
       "22       6\n",
       "28       6\n",
       "23       6\n",
       "29       4\n",
       "1        2\n",
       "46       2\n",
       "32       2\n",
       "38       1\n",
       "44       1\n",
       "34       1\n",
       "31       1\n",
       "43       1\n",
       "41       1\n",
       "Name: product_title, dtype: int64"
      ]
     },
     "execution_count": 7,
     "metadata": {},
     "output_type": "execute_result"
    }
   ],
   "source": [
    "train['product_title'].map(lambda x:len(x.split())).value_counts()"
   ]
  },
  {
   "cell_type": "code",
   "execution_count": 8,
   "id": "34a6a105",
   "metadata": {
    "execution": {
     "iopub.execute_input": "2022-07-24T18:42:58.275208Z",
     "iopub.status.busy": "2022-07-24T18:42:58.274473Z",
     "iopub.status.idle": "2022-07-24T18:42:58.276397Z",
     "shell.execute_reply": "2022-07-24T18:42:58.276906Z",
     "shell.execute_reply.started": "2022-07-24T18:40:17.928024Z"
    },
    "papermill": {
     "duration": 0.025831,
     "end_time": "2022-07-24T18:42:58.277096",
     "exception": false,
     "start_time": "2022-07-24T18:42:58.251265",
     "status": "completed"
    },
    "tags": []
   },
   "outputs": [],
   "source": [
    "split = int(len(train)*0.8)\n",
    "train_0, dev = train[:split], train[split:]"
   ]
  },
  {
   "cell_type": "code",
   "execution_count": null,
   "id": "f416ca9d",
   "metadata": {
    "papermill": {
     "duration": 0.017579,
     "end_time": "2022-07-24T18:42:58.312527",
     "exception": false,
     "start_time": "2022-07-24T18:42:58.294948",
     "status": "completed"
    },
    "tags": []
   },
   "outputs": [],
   "source": []
  },
  {
   "cell_type": "code",
   "execution_count": 9,
   "id": "fe63f761",
   "metadata": {
    "execution": {
     "iopub.execute_input": "2022-07-24T18:42:58.354524Z",
     "iopub.status.busy": "2022-07-24T18:42:58.353805Z",
     "iopub.status.idle": "2022-07-24T18:42:58.374012Z",
     "shell.execute_reply": "2022-07-24T18:42:58.374609Z",
     "shell.execute_reply.started": "2022-07-24T18:40:17.934788Z"
    },
    "papermill": {
     "duration": 0.044434,
     "end_time": "2022-07-24T18:42:58.374799",
     "exception": false,
     "start_time": "2022-07-24T18:42:58.330365",
     "status": "completed"
    },
    "tags": []
   },
   "outputs": [
    {
     "data": {
      "text/html": [
       "<div>\n",
       "<style scoped>\n",
       "    .dataframe tbody tr th:only-of-type {\n",
       "        vertical-align: middle;\n",
       "    }\n",
       "\n",
       "    .dataframe tbody tr th {\n",
       "        vertical-align: top;\n",
       "    }\n",
       "\n",
       "    .dataframe thead th {\n",
       "        text-align: right;\n",
       "    }\n",
       "</style>\n",
       "<table border=\"1\" class=\"dataframe\">\n",
       "  <thead>\n",
       "    <tr style=\"text-align: right;\">\n",
       "      <th></th>\n",
       "      <th>id</th>\n",
       "      <th>median_relevance</th>\n",
       "      <th>relevance_variance</th>\n",
       "    </tr>\n",
       "  </thead>\n",
       "  <tbody>\n",
       "    <tr>\n",
       "      <th>count</th>\n",
       "      <td>2032.000000</td>\n",
       "      <td>2032.000000</td>\n",
       "      <td>2032.000000</td>\n",
       "    </tr>\n",
       "    <tr>\n",
       "      <th>mean</th>\n",
       "      <td>29406.014764</td>\n",
       "      <td>3.319390</td>\n",
       "      <td>0.361364</td>\n",
       "    </tr>\n",
       "    <tr>\n",
       "      <th>std</th>\n",
       "      <td>1870.217123</td>\n",
       "      <td>0.972218</td>\n",
       "      <td>0.379619</td>\n",
       "    </tr>\n",
       "    <tr>\n",
       "      <th>min</th>\n",
       "      <td>26215.000000</td>\n",
       "      <td>1.000000</td>\n",
       "      <td>0.000000</td>\n",
       "    </tr>\n",
       "    <tr>\n",
       "      <th>25%</th>\n",
       "      <td>27777.250000</td>\n",
       "      <td>3.000000</td>\n",
       "      <td>0.000000</td>\n",
       "    </tr>\n",
       "    <tr>\n",
       "      <th>50%</th>\n",
       "      <td>29410.000000</td>\n",
       "      <td>4.000000</td>\n",
       "      <td>0.471000</td>\n",
       "    </tr>\n",
       "    <tr>\n",
       "      <th>75%</th>\n",
       "      <td>31014.750000</td>\n",
       "      <td>4.000000</td>\n",
       "      <td>0.471000</td>\n",
       "    </tr>\n",
       "    <tr>\n",
       "      <th>max</th>\n",
       "      <td>32668.000000</td>\n",
       "      <td>4.000000</td>\n",
       "      <td>1.470000</td>\n",
       "    </tr>\n",
       "  </tbody>\n",
       "</table>\n",
       "</div>"
      ],
      "text/plain": [
       "                 id  median_relevance  relevance_variance\n",
       "count   2032.000000       2032.000000         2032.000000\n",
       "mean   29406.014764          3.319390            0.361364\n",
       "std     1870.217123          0.972218            0.379619\n",
       "min    26215.000000          1.000000            0.000000\n",
       "25%    27777.250000          3.000000            0.000000\n",
       "50%    29410.000000          4.000000            0.471000\n",
       "75%    31014.750000          4.000000            0.471000\n",
       "max    32668.000000          4.000000            1.470000"
      ]
     },
     "execution_count": 9,
     "metadata": {},
     "output_type": "execute_result"
    }
   ],
   "source": [
    "clean_train_1 = train_0[train_0.relevance_variance <1].copy()\n",
    "clean_train_2 = train_0[train_0.relevance_variance <0.50].copy()\n",
    "dev.describe()"
   ]
  },
  {
   "cell_type": "code",
   "execution_count": 10,
   "id": "1dd98a14",
   "metadata": {
    "execution": {
     "iopub.execute_input": "2022-07-24T18:42:58.415435Z",
     "iopub.status.busy": "2022-07-24T18:42:58.414671Z",
     "iopub.status.idle": "2022-07-24T18:42:58.433609Z",
     "shell.execute_reply": "2022-07-24T18:42:58.434112Z",
     "shell.execute_reply.started": "2022-07-24T18:40:17.966688Z"
    },
    "papermill": {
     "duration": 0.040859,
     "end_time": "2022-07-24T18:42:58.434330",
     "exception": false,
     "start_time": "2022-07-24T18:42:58.393471",
     "status": "completed"
    },
    "tags": []
   },
   "outputs": [
    {
     "data": {
      "text/html": [
       "<div>\n",
       "<style scoped>\n",
       "    .dataframe tbody tr th:only-of-type {\n",
       "        vertical-align: middle;\n",
       "    }\n",
       "\n",
       "    .dataframe tbody tr th {\n",
       "        vertical-align: top;\n",
       "    }\n",
       "\n",
       "    .dataframe thead th {\n",
       "        text-align: right;\n",
       "    }\n",
       "</style>\n",
       "<table border=\"1\" class=\"dataframe\">\n",
       "  <thead>\n",
       "    <tr style=\"text-align: right;\">\n",
       "      <th></th>\n",
       "      <th>id</th>\n",
       "      <th>median_relevance</th>\n",
       "      <th>relevance_variance</th>\n",
       "    </tr>\n",
       "  </thead>\n",
       "  <tbody>\n",
       "    <tr>\n",
       "      <th>count</th>\n",
       "      <td>7558.000000</td>\n",
       "      <td>7558.000000</td>\n",
       "      <td>7558.000000</td>\n",
       "    </tr>\n",
       "    <tr>\n",
       "      <th>mean</th>\n",
       "      <td>13074.201111</td>\n",
       "      <td>3.344403</td>\n",
       "      <td>0.321038</td>\n",
       "    </tr>\n",
       "    <tr>\n",
       "      <th>std</th>\n",
       "      <td>7571.543134</td>\n",
       "      <td>0.974908</td>\n",
       "      <td>0.332482</td>\n",
       "    </tr>\n",
       "    <tr>\n",
       "      <th>min</th>\n",
       "      <td>1.000000</td>\n",
       "      <td>1.000000</td>\n",
       "      <td>0.000000</td>\n",
       "    </tr>\n",
       "    <tr>\n",
       "      <th>25%</th>\n",
       "      <td>6496.500000</td>\n",
       "      <td>3.000000</td>\n",
       "      <td>0.000000</td>\n",
       "    </tr>\n",
       "    <tr>\n",
       "      <th>50%</th>\n",
       "      <td>13129.000000</td>\n",
       "      <td>4.000000</td>\n",
       "      <td>0.471000</td>\n",
       "    </tr>\n",
       "    <tr>\n",
       "      <th>75%</th>\n",
       "      <td>19563.250000</td>\n",
       "      <td>4.000000</td>\n",
       "      <td>0.471000</td>\n",
       "    </tr>\n",
       "    <tr>\n",
       "      <th>max</th>\n",
       "      <td>26208.000000</td>\n",
       "      <td>4.000000</td>\n",
       "      <td>0.980000</td>\n",
       "    </tr>\n",
       "  </tbody>\n",
       "</table>\n",
       "</div>"
      ],
      "text/plain": [
       "                 id  median_relevance  relevance_variance\n",
       "count   7558.000000       7558.000000         7558.000000\n",
       "mean   13074.201111          3.344403            0.321038\n",
       "std     7571.543134          0.974908            0.332482\n",
       "min        1.000000          1.000000            0.000000\n",
       "25%     6496.500000          3.000000            0.000000\n",
       "50%    13129.000000          4.000000            0.471000\n",
       "75%    19563.250000          4.000000            0.471000\n",
       "max    26208.000000          4.000000            0.980000"
      ]
     },
     "execution_count": 10,
     "metadata": {},
     "output_type": "execute_result"
    }
   ],
   "source": [
    "clean_train_1.describe()"
   ]
  },
  {
   "cell_type": "code",
   "execution_count": 11,
   "id": "ed6e65aa",
   "metadata": {
    "execution": {
     "iopub.execute_input": "2022-07-24T18:42:58.476227Z",
     "iopub.status.busy": "2022-07-24T18:42:58.475344Z",
     "iopub.status.idle": "2022-07-24T18:42:58.494250Z",
     "shell.execute_reply": "2022-07-24T18:42:58.494834Z",
     "shell.execute_reply.started": "2022-07-24T18:40:17.990733Z"
    },
    "papermill": {
     "duration": 0.041816,
     "end_time": "2022-07-24T18:42:58.495065",
     "exception": false,
     "start_time": "2022-07-24T18:42:58.453249",
     "status": "completed"
    },
    "tags": []
   },
   "outputs": [
    {
     "data": {
      "text/html": [
       "<div>\n",
       "<style scoped>\n",
       "    .dataframe tbody tr th:only-of-type {\n",
       "        vertical-align: middle;\n",
       "    }\n",
       "\n",
       "    .dataframe tbody tr th {\n",
       "        vertical-align: top;\n",
       "    }\n",
       "\n",
       "    .dataframe thead th {\n",
       "        text-align: right;\n",
       "    }\n",
       "</style>\n",
       "<table border=\"1\" class=\"dataframe\">\n",
       "  <thead>\n",
       "    <tr style=\"text-align: right;\">\n",
       "      <th></th>\n",
       "      <th>id</th>\n",
       "      <th>median_relevance</th>\n",
       "      <th>relevance_variance</th>\n",
       "    </tr>\n",
       "  </thead>\n",
       "  <tbody>\n",
       "    <tr>\n",
       "      <th>count</th>\n",
       "      <td>6206.000000</td>\n",
       "      <td>6206.000000</td>\n",
       "      <td>6206.000000</td>\n",
       "    </tr>\n",
       "    <tr>\n",
       "      <th>mean</th>\n",
       "      <td>13154.066549</td>\n",
       "      <td>3.432646</td>\n",
       "      <td>0.202590</td>\n",
       "    </tr>\n",
       "    <tr>\n",
       "      <th>std</th>\n",
       "      <td>7570.559783</td>\n",
       "      <td>0.959901</td>\n",
       "      <td>0.232434</td>\n",
       "    </tr>\n",
       "    <tr>\n",
       "      <th>min</th>\n",
       "      <td>1.000000</td>\n",
       "      <td>1.000000</td>\n",
       "      <td>0.000000</td>\n",
       "    </tr>\n",
       "    <tr>\n",
       "      <th>25%</th>\n",
       "      <td>6576.750000</td>\n",
       "      <td>3.000000</td>\n",
       "      <td>0.000000</td>\n",
       "    </tr>\n",
       "    <tr>\n",
       "      <th>50%</th>\n",
       "      <td>13299.500000</td>\n",
       "      <td>4.000000</td>\n",
       "      <td>0.000000</td>\n",
       "    </tr>\n",
       "    <tr>\n",
       "      <th>75%</th>\n",
       "      <td>19708.000000</td>\n",
       "      <td>4.000000</td>\n",
       "      <td>0.471000</td>\n",
       "    </tr>\n",
       "    <tr>\n",
       "      <th>max</th>\n",
       "      <td>26208.000000</td>\n",
       "      <td>4.000000</td>\n",
       "      <td>0.490000</td>\n",
       "    </tr>\n",
       "  </tbody>\n",
       "</table>\n",
       "</div>"
      ],
      "text/plain": [
       "                 id  median_relevance  relevance_variance\n",
       "count   6206.000000       6206.000000         6206.000000\n",
       "mean   13154.066549          3.432646            0.202590\n",
       "std     7570.559783          0.959901            0.232434\n",
       "min        1.000000          1.000000            0.000000\n",
       "25%     6576.750000          3.000000            0.000000\n",
       "50%    13299.500000          4.000000            0.000000\n",
       "75%    19708.000000          4.000000            0.471000\n",
       "max    26208.000000          4.000000            0.490000"
      ]
     },
     "execution_count": 11,
     "metadata": {},
     "output_type": "execute_result"
    }
   ],
   "source": [
    "clean_train_2.describe()"
   ]
  },
  {
   "cell_type": "code",
   "execution_count": 12,
   "id": "613bfbfd",
   "metadata": {
    "execution": {
     "iopub.execute_input": "2022-07-24T18:42:58.537295Z",
     "iopub.status.busy": "2022-07-24T18:42:58.536478Z",
     "iopub.status.idle": "2022-07-24T18:42:58.698228Z",
     "shell.execute_reply": "2022-07-24T18:42:58.697585Z",
     "shell.execute_reply.started": "2022-07-24T18:40:18.011135Z"
    },
    "papermill": {
     "duration": 0.183999,
     "end_time": "2022-07-24T18:42:58.698406",
     "exception": false,
     "start_time": "2022-07-24T18:42:58.514407",
     "status": "completed"
    },
    "tags": []
   },
   "outputs": [],
   "source": [
    "## Skipping product description as it's too lengthy and missing values\n",
    "train = clean_train_1\n",
    "train_input = train.apply(lambda x: x['query']+' '+x['product_title'], axis=1)\n",
    "dev_input =  dev.apply(lambda x: x['query']+' '+x['product_title'], axis=1)"
   ]
  },
  {
   "cell_type": "code",
   "execution_count": 13,
   "id": "e0aa96d8",
   "metadata": {
    "execution": {
     "iopub.execute_input": "2022-07-24T18:42:58.743538Z",
     "iopub.status.busy": "2022-07-24T18:42:58.742700Z",
     "iopub.status.idle": "2022-07-24T18:43:01.019739Z",
     "shell.execute_reply": "2022-07-24T18:43:01.019059Z",
     "shell.execute_reply.started": "2022-07-24T18:40:18.210299Z"
    },
    "papermill": {
     "duration": 2.301714,
     "end_time": "2022-07-24T18:43:01.019920",
     "exception": false,
     "start_time": "2022-07-24T18:42:58.718206",
     "status": "completed"
    },
    "tags": []
   },
   "outputs": [],
   "source": [
    "from sklearn.feature_extraction.text import TfidfVectorizer \n",
    "tfidf = TfidfVectorizer(ngram_range=(1, 5),stop_words = 'english', strip_accents='unicode')\n",
    "train_x = tfidf.fit_transform(train_input)\n",
    "dev_x = tfidf.transform(dev_input)"
   ]
  },
  {
   "cell_type": "code",
   "execution_count": 14,
   "id": "ff423175",
   "metadata": {
    "execution": {
     "iopub.execute_input": "2022-07-24T18:43:01.061912Z",
     "iopub.status.busy": "2022-07-24T18:43:01.061193Z",
     "iopub.status.idle": "2022-07-24T18:43:01.071631Z",
     "shell.execute_reply": "2022-07-24T18:43:01.072165Z",
     "shell.execute_reply.started": "2022-07-24T18:40:20.367134Z"
    },
    "papermill": {
     "duration": 0.03312,
     "end_time": "2022-07-24T18:43:01.072365",
     "exception": false,
     "start_time": "2022-07-24T18:43:01.039245",
     "status": "completed"
    },
    "tags": []
   },
   "outputs": [
    {
     "data": {
      "text/plain": [
       "(0.781467760430449, 1.0, 0.0)"
      ]
     },
     "execution_count": 14,
     "metadata": {},
     "output_type": "execute_result"
    }
   ],
   "source": [
    "train_y, dev_y = train.median_relevance.to_list(), dev.median_relevance.to_list()\n",
    "train_y = [(x-1)/3 for x in train_y]\n",
    "dev_y = [(x-1)/3 for x in dev_y]\n",
    "np.mean(train_y), np.max(train_y), np.min(train_y)"
   ]
  },
  {
   "cell_type": "code",
   "execution_count": 15,
   "id": "ab8ebf99",
   "metadata": {
    "execution": {
     "iopub.execute_input": "2022-07-24T18:43:01.114880Z",
     "iopub.status.busy": "2022-07-24T18:43:01.114160Z",
     "iopub.status.idle": "2022-07-24T18:43:01.158257Z",
     "shell.execute_reply": "2022-07-24T18:43:01.158955Z",
     "shell.execute_reply.started": "2022-07-24T18:40:20.384108Z"
    },
    "papermill": {
     "duration": 0.067165,
     "end_time": "2022-07-24T18:43:01.159159",
     "exception": false,
     "start_time": "2022-07-24T18:43:01.091994",
     "status": "completed"
    },
    "tags": []
   },
   "outputs": [],
   "source": [
    "from sklearn.metrics import mean_squared_error, cohen_kappa_score, make_scorer\n",
    "def reg_scorer(true, pred):\n",
    "    pred = [min(1, max(0,x)) for x in pred]\n",
    "    pred = [int(round((x*3)+1)) for x in pred]\n",
    "    true = [int(round((x*3)+1)) for x in true]\n",
    "    return cohen_kappa_score(true, pred)"
   ]
  },
  {
   "cell_type": "code",
   "execution_count": 16,
   "id": "3289da4a",
   "metadata": {
    "execution": {
     "iopub.execute_input": "2022-07-24T18:43:01.206242Z",
     "iopub.status.busy": "2022-07-24T18:43:01.205509Z",
     "iopub.status.idle": "2022-07-24T18:52:02.417637Z",
     "shell.execute_reply": "2022-07-24T18:52:02.417048Z",
     "shell.execute_reply.started": "2022-07-24T18:40:20.438192Z"
    },
    "papermill": {
     "duration": 541.238845,
     "end_time": "2022-07-24T18:52:02.417818",
     "exception": false,
     "start_time": "2022-07-24T18:43:01.178973",
     "status": "completed"
    },
    "scrolled": true,
    "tags": []
   },
   "outputs": [
    {
     "name": "stdout",
     "output_type": "stream",
     "text": [
      "Fitting 5 folds for each of 60 candidates, totalling 300 fits\n"
     ]
    },
    {
     "name": "stderr",
     "output_type": "stream",
     "text": [
      "[Parallel(n_jobs=8)]: Using backend LokyBackend with 8 concurrent workers.\n",
      "[Parallel(n_jobs=8)]: Done  34 tasks      | elapsed:  1.8min\n",
      "[Parallel(n_jobs=8)]: Done 184 tasks      | elapsed:  5.7min\n",
      "[Parallel(n_jobs=8)]: Done 300 out of 300 | elapsed:  8.9min finished\n"
     ]
    },
    {
     "data": {
      "text/plain": [
       "(SVR(C=14, epsilon=0.3, kernel='sigmoid'),\n",
       " {'C': 14, 'epsilon': 0.3, 'kernel': 'sigmoid'},\n",
       " 0.013617233347542234)"
      ]
     },
     "execution_count": 16,
     "metadata": {},
     "output_type": "execute_result"
    }
   ],
   "source": [
    "from sklearn.linear_model import LinearRegression, SGDRegressor\n",
    "from sklearn.pipeline import make_pipeline\n",
    "from sklearn.preprocessing import StandardScaler\n",
    "from sklearn.model_selection import GridSearchCV\n",
    "from sklearn.svm import SVR\n",
    "#clf = LinearRegression().fit(train_x, train_y)\n",
    "#clf = SGDRegressor(verbose=1,n_iter_no_change=20).fit(train_x, train_y)\n",
    "param_grid = {'C': [1,2,5,14,20], 'epsilon':[0.3,0.4,0.5], 'kernel': ('linear', 'rbf', 'poly','sigmoid')}\n",
    "svr  = SVR()\n",
    "scorer = make_scorer(reg_scorer, greater_is_better=True)\n",
    "clf = GridSearchCV(svr, param_grid, verbose=True,scoring=scorer, n_jobs=8)\n",
    "clf.fit(train_x, train_y)\n",
    "clf.best_estimator_, clf.best_params_, clf.best_score_"
   ]
  },
  {
   "cell_type": "code",
   "execution_count": 17,
   "id": "4bb83707",
   "metadata": {
    "execution": {
     "iopub.execute_input": "2022-07-24T18:52:02.464727Z",
     "iopub.status.busy": "2022-07-24T18:52:02.463722Z",
     "iopub.status.idle": "2022-07-24T18:52:03.858443Z",
     "shell.execute_reply": "2022-07-24T18:52:03.857925Z",
     "shell.execute_reply.started": "2021-10-30T13:54:02.136672Z"
    },
    "papermill": {
     "duration": 1.419824,
     "end_time": "2022-07-24T18:52:03.858600",
     "exception": false,
     "start_time": "2022-07-24T18:52:02.438776",
     "status": "completed"
    },
    "tags": []
   },
   "outputs": [
    {
     "data": {
      "text/plain": [
       "(0.08875187265159268, 0.019797621707999258)"
      ]
     },
     "execution_count": 17,
     "metadata": {},
     "output_type": "execute_result"
    }
   ],
   "source": [
    "preds = clf.best_estimator_.predict(dev_x)\n",
    "mean_squared_error(dev_y, preds),  reg_scorer(dev_y, preds)"
   ]
  },
  {
   "cell_type": "code",
   "execution_count": null,
   "id": "0c488ebe",
   "metadata": {
    "papermill": {
     "duration": 0.02115,
     "end_time": "2022-07-24T18:52:03.901363",
     "exception": false,
     "start_time": "2022-07-24T18:52:03.880213",
     "status": "completed"
    },
    "tags": []
   },
   "outputs": [],
   "source": []
  }
 ],
 "metadata": {
  "kernelspec": {
   "display_name": "Python 3",
   "language": "python",
   "name": "python3"
  },
  "language_info": {
   "codemirror_mode": {
    "name": "ipython",
    "version": 3
   },
   "file_extension": ".py",
   "mimetype": "text/x-python",
   "name": "python",
   "nbconvert_exporter": "python",
   "pygments_lexer": "ipython3",
   "version": "3.7.10"
  },
  "papermill": {
   "default_parameters": {},
   "duration": 558.552601,
   "end_time": "2022-07-24T18:52:05.035799",
   "environment_variables": {},
   "exception": null,
   "input_path": "__notebook__.ipynb",
   "output_path": "__notebook__.ipynb",
   "parameters": {},
   "start_time": "2022-07-24T18:42:46.483198",
   "version": "2.3.3"
  }
 },
 "nbformat": 4,
 "nbformat_minor": 5
}
